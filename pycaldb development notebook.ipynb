{
 "cells": [
  {
   "cell_type": "markdown",
   "metadata": {},
   "source": [
    "#### get_calpars \n",
    "\n",
    "reads the parameter file from a software tool (by default from the ftools package) and gets the names of the parameters for which the string \"CALDB\" is a valid input "
   ]
  },
  {
   "cell_type": "code",
   "execution_count": 17,
<<<<<<< HEAD
   "metadata": {},
=======
   "metadata": {
    "collapsed": true
   },
>>>>>>> master
   "outputs": [],
   "source": [
    "import os\n",
    "import glob"
   ]
  },
  {
   "cell_type": "code",
   "execution_count": 10,
<<<<<<< HEAD
   "metadata": {},
=======
   "metadata": {
    "collapsed": false
   },
>>>>>>> master
   "outputs": [],
   "source": [
    "envname = 'LHEASOFT'\n",
    "pfiledir=os.getenv(envname)+'/syspfiles'"
   ]
  },
  {
   "cell_type": "code",
   "execution_count": 11,
<<<<<<< HEAD
   "metadata": {},
=======
   "metadata": {
    "collapsed": false
   },
>>>>>>> master
   "outputs": [
    {
     "data": {
      "text/plain": [
       "'/software/heasoft/headas/setup/syspfiles'"
      ]
     },
     "execution_count": 11,
<<<<<<< HEAD
     "output_type": "execute_result",
     "metadata": {}
=======
     "metadata": {},
     "output_type": "execute_result"
>>>>>>> master
    }
   ],
   "source": [
    "pfiledir"
   ]
  },
  {
   "cell_type": "code",
   "execution_count": 14,
<<<<<<< HEAD
   "metadata": {},
=======
   "metadata": {
    "collapsed": false
   },
>>>>>>> master
   "outputs": [],
   "source": [
    "cmd='ls '+pfiledir"
   ]
  },
  {
   "cell_type": "code",
   "execution_count": 22,
<<<<<<< HEAD
   "metadata": {},
=======
   "metadata": {
    "collapsed": false
   },
>>>>>>> master
   "outputs": [],
   "source": [
    "tool='xrtmkarf'\n",
    "parfile = pfiledir+'/'+tool+'.par'\n",
    "with open (parfile,'r') as pf:\n",
    "    pars=pf.readlines()\n",
    "for p in pars:\n",
<<<<<<< HEAD
    "    a = p.split(\",\")"
=======
    "    a = p.split(\",\")\n"
>>>>>>> master
   ]
  },
  {
   "cell_type": "code",
   "execution_count": 61,
<<<<<<< HEAD
   "metadata": {},
=======
   "metadata": {
    "collapsed": false
   },
>>>>>>> master
   "outputs": [],
   "source": [
    "parnames={}\n",
    "for p in pars:\n",
    "    if 'CALDB' in p:\n",
    "        pname = p.split(',')[0]\n",
    "        pdesc = p.split(',')[6]\n",
<<<<<<< HEAD
    "        parnames.update({pname:pdesc})"
=======
    "        parnames.update({pname:pdesc})\n",
    "    \n",
    "\n"
>>>>>>> master
   ]
  },
  {
   "cell_type": "code",
   "execution_count": 64,
<<<<<<< HEAD
   "metadata": {},
=======
   "metadata": {
    "collapsed": false
   },
>>>>>>> master
   "outputs": [
    {
     "data": {
      "text/plain": [
       "['vigfile', 'rmffile', 'transmfile', 'mirfile', 'psffile', 'inarffile']"
      ]
     },
     "execution_count": 64,
<<<<<<< HEAD
     "output_type": "execute_result",
     "metadata": {}
=======
     "metadata": {},
     "output_type": "execute_result"
>>>>>>> master
    }
   ],
   "source": [
    "parnames.keys()"
   ]
  },
  {
   "cell_type": "code",
   "execution_count": 59,
<<<<<<< HEAD
   "metadata": {},
=======
   "metadata": {
    "collapsed": false
   },
>>>>>>> master
   "outputs": [],
   "source": [
    "p='rmffile,f,h,\"CALDB\",,,\"Name of the input RMF file or CALDB\"\\n'\n",
    "parnames={}\n",
    "if 'CALDB' in p:\n",
    "    pname = p.split(',')[0]\n",
    "    pdesc = p.split(',')[6]\n",
<<<<<<< HEAD
    "    parnames.update({pname:pdesc})"
=======
    "    parnames.update({pname:pdesc})\n",
    "    \n",
    "\n",
    "    \n"
>>>>>>> master
   ]
  },
  {
   "cell_type": "code",
   "execution_count": 60,
<<<<<<< HEAD
   "metadata": {},
=======
   "metadata": {
    "collapsed": false
   },
>>>>>>> master
   "outputs": [
    {
     "data": {
      "text/plain": [
       "{'rmffile': '\"Name of the input RMF file or CALDB\"\\n'}"
      ]
     },
     "execution_count": 60,
<<<<<<< HEAD
     "output_type": "execute_result",
     "metadata": {}
=======
     "metadata": {},
     "output_type": "execute_result"
>>>>>>> master
    }
   ],
   "source": [
    "parnames"
   ]
  },
  {
   "cell_type": "code",
   "execution_count": 38,
<<<<<<< HEAD
   "metadata": {},
=======
   "metadata": {
    "collapsed": false
   },
>>>>>>> master
   "outputs": [],
   "source": [
    "calpars"
   ]
  },
  {
   "cell_type": "code",
   "execution_count": 43,
<<<<<<< HEAD
   "metadata": {},
=======
   "metadata": {
    "collapsed": false
   },
>>>>>>> master
   "outputs": [],
   "source": [
    "calpars.update({'arffile':'test2'})"
   ]
  },
  {
   "cell_type": "code",
   "execution_count": 44,
<<<<<<< HEAD
   "metadata": {},
=======
   "metadata": {
    "collapsed": false
   },
>>>>>>> master
   "outputs": [
    {
     "data": {
      "text/plain": [
       "{'arffile': 'test2', 'rmffile': 'test'}"
      ]
     },
     "execution_count": 44,
<<<<<<< HEAD
     "output_type": "execute_result",
     "metadata": {}
=======
     "metadata": {},
     "output_type": "execute_result"
>>>>>>> master
    }
   ],
   "source": [
    "calpars"
   ]
  },
  {
   "cell_type": "code",
   "execution_count": 52,
<<<<<<< HEAD
   "metadata": {},
=======
   "metadata": {
    "collapsed": false
   },
>>>>>>> master
   "outputs": [],
   "source": [
    "parnames={'xrtmkarf':{'rmffile':'test','arffile':'test2'}}"
   ]
  },
  {
   "cell_type": "code",
   "execution_count": 53,
<<<<<<< HEAD
   "metadata": {},
   "outputs": [],
   "source": [
    "calpar= {'xrtmkarf':parnames}"
=======
   "metadata": {
    "collapsed": false
   },
   "outputs": [],
   "source": [
    "calpar= {'xrtmkarf':parnames}\n"
>>>>>>> master
   ]
  },
  {
   "cell_type": "code",
   "execution_count": 58,
<<<<<<< HEAD
   "metadata": {},
=======
   "metadata": {
    "collapsed": false
   },
>>>>>>> master
   "outputs": [
    {
     "data": {
      "text/plain": [
       "['test2', 'test']"
      ]
     },
     "execution_count": 58,
<<<<<<< HEAD
     "output_type": "execute_result",
     "metadata": {}
=======
     "metadata": {},
     "output_type": "execute_result"
>>>>>>> master
    }
   ],
   "source": [
    "calpars['xrtmkarf'].values()"
   ]
  },
  {
   "cell_type": "code",
   "execution_count": 68,
<<<<<<< HEAD
   "metadata": {},
=======
   "metadata": {
    "collapsed": false
   },
>>>>>>> master
   "outputs": [
    {
     "name": "stderr",
     "output_type": "stream",
     "text": [
      "/Users/Shared/Library/Frameworks/Python.framework/Versions/2.7/lib/python2.7/site-packages/IPython/kernel/__init__.py:13: ShimWarning: The `IPython.kernel` package has been deprecated. You should import from ipykernel or jupyter_client instead.\n",
      "  \"You should import from ipykernel or jupyter_client instead.\", ShimWarning)\n"
     ]
    }
   ],
   "source": [
    "import pycaldb"
   ]
  },
  {
   "cell_type": "code",
   "execution_count": null,
<<<<<<< HEAD
   "metadata": {},
   "outputs": [],
   "source": [
    ""
   ]
=======
   "metadata": {
    "collapsed": true
   },
   "outputs": [],
   "source": []
>>>>>>> master
  }
 ],
 "metadata": {
  "kernelspec": {
   "display_name": "Python 2",
   "language": "python",
   "name": "python2"
  },
  "language_info": {
   "codemirror_mode": {
    "name": "ipython",
<<<<<<< HEAD
    "version": 2.0
=======
    "version": 2
>>>>>>> master
   },
   "file_extension": ".py",
   "mimetype": "text/x-python",
   "name": "python",
   "nbconvert_exporter": "python",
   "pygments_lexer": "ipython2",
   "version": "2.7.10"
  }
 },
 "nbformat": 4,
 "nbformat_minor": 0
<<<<<<< HEAD
}
=======
}
>>>>>>> master
