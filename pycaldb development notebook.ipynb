{
 "cells": [
  {
   "cell_type": "markdown",
   "metadata": {},
   "source": [
    "#### get_calpars \n",
    "\n",
    "reads the parameter file from a software tool (by default from the ftools package) and gets the names of the parameters for which the string \"CALDB\" is a valid input "
   ]
  },
  {
   "cell_type": "code",
   "execution_count": 17,
   "metadata": {},
   "outputs": [],
   "source": [
    "import os\n",
    "import glob"
   ]
  },
  {
   "cell_type": "code",
   "execution_count": 10,
   "metadata": {},
   "outputs": [],
   "source": [
    "envname = 'LHEASOFT'\n",
    "pfiledir=os.getenv(envname)+'/syspfiles'"
   ]
  },
  {
   "cell_type": "code",
   "execution_count": 11,
   "metadata": {},
   "outputs": [
    {
     "data": {
      "text/plain": [
       "'/software/heasoft/headas/setup/syspfiles'"
      ]
     },
     "execution_count": 11,
     "output_type": "execute_result",
     "metadata": {}
    }
   ],
   "source": [
    "pfiledir"
   ]
  },
  {
   "cell_type": "code",
   "execution_count": 14,
   "metadata": {},
   "outputs": [],
   "source": [
    "cmd='ls '+pfiledir"
   ]
  },
  {
   "cell_type": "code",
   "execution_count": 22,
   "metadata": {},
   "outputs": [],
   "source": [
    "tool='xrtmkarf'\n",
    "parfile = pfiledir+'/'+tool+'.par'\n",
    "with open (parfile,'r') as pf:\n",
    "    pars=pf.readlines()\n",
    "for p in pars:\n",
    "    a = p.split(\",\")"
   ]
  },
  {
   "cell_type": "code",
   "execution_count": 61,
   "metadata": {},
   "outputs": [],
   "source": [
    "parnames={}\n",
    "for p in pars:\n",
    "    if 'CALDB' in p:\n",
    "        pname = p.split(',')[0]\n",
    "        pdesc = p.split(',')[6]\n",
    "        parnames.update({pname:pdesc})"
   ]
  },
  {
   "cell_type": "code",
   "execution_count": 64,
   "metadata": {},
   "outputs": [
    {
     "data": {
      "text/plain": [
       "['vigfile', 'rmffile', 'transmfile', 'mirfile', 'psffile', 'inarffile']"
      ]
     },
     "execution_count": 64,
     "output_type": "execute_result",
     "metadata": {}
    }
   ],
   "source": [
    "parnames.keys()"
   ]
  },
  {
   "cell_type": "code",
   "execution_count": 59,
   "metadata": {},
   "outputs": [],
   "source": [
    "p='rmffile,f,h,\"CALDB\",,,\"Name of the input RMF file or CALDB\"\\n'\n",
    "parnames={}\n",
    "if 'CALDB' in p:\n",
    "    pname = p.split(',')[0]\n",
    "    pdesc = p.split(',')[6]\n",
    "    parnames.update({pname:pdesc})"
   ]
  },
  {
   "cell_type": "code",
   "execution_count": 60,
   "metadata": {},
   "outputs": [
    {
     "data": {
      "text/plain": [
       "{'rmffile': '\"Name of the input RMF file or CALDB\"\\n'}"
      ]
     },
     "execution_count": 60,
     "output_type": "execute_result",
     "metadata": {}
    }
   ],
   "source": [
    "parnames"
   ]
  },
  {
   "cell_type": "code",
   "execution_count": 38,
   "metadata": {},
   "outputs": [],
   "source": [
    "calpars"
   ]
  },
  {
   "cell_type": "code",
   "execution_count": 43,
   "metadata": {},
   "outputs": [],
   "source": [
    "calpars.update({'arffile':'test2'})"
   ]
  },
  {
   "cell_type": "code",
   "execution_count": 44,
   "metadata": {},
   "outputs": [
    {
     "data": {
      "text/plain": [
       "{'arffile': 'test2', 'rmffile': 'test'}"
      ]
     },
     "execution_count": 44,
     "output_type": "execute_result",
     "metadata": {}
    }
   ],
   "source": [
    "calpars"
   ]
  },
  {
   "cell_type": "code",
   "execution_count": 52,
   "metadata": {},
   "outputs": [],
   "source": [
    "parnames={'xrtmkarf':{'rmffile':'test','arffile':'test2'}}"
   ]
  },
  {
   "cell_type": "code",
   "execution_count": 53,
   "metadata": {},
   "outputs": [],
   "source": [
    "calpar= {'xrtmkarf':parnames}"
   ]
  },
  {
   "cell_type": "code",
   "execution_count": 58,
   "metadata": {},
   "outputs": [
    {
     "data": {
      "text/plain": [
       "['test2', 'test']"
      ]
     },
     "execution_count": 58,
     "output_type": "execute_result",
     "metadata": {}
    }
   ],
   "source": [
    "calpars['xrtmkarf'].values()"
   ]
  },
  {
   "cell_type": "code",
   "execution_count": 68,
   "metadata": {},
   "outputs": [
    {
     "name": "stderr",
     "output_type": "stream",
     "text": [
      "/Users/Shared/Library/Frameworks/Python.framework/Versions/2.7/lib/python2.7/site-packages/IPython/kernel/__init__.py:13: ShimWarning: The `IPython.kernel` package has been deprecated. You should import from ipykernel or jupyter_client instead.\n",
      "  \"You should import from ipykernel or jupyter_client instead.\", ShimWarning)\n"
     ]
    }
   ],
   "source": [
    "import pycaldb"
   ]
  },
  {
   "cell_type": "code",
   "execution_count": null,
   "metadata": {},
   "outputs": [],
   "source": [
    ""
   ]
  }
 ],
 "metadata": {
  "kernelspec": {
   "display_name": "Python 2",
   "language": "python",
   "name": "python2"
  },
  "language_info": {
   "codemirror_mode": {
    "name": "ipython",
    "version": 2.0
   },
   "file_extension": ".py",
   "mimetype": "text/x-python",
   "name": "python",
   "nbconvert_exporter": "python",
   "pygments_lexer": "ipython2",
   "version": "2.7.10"
  }
 },
 "nbformat": 4,
 "nbformat_minor": 0
}