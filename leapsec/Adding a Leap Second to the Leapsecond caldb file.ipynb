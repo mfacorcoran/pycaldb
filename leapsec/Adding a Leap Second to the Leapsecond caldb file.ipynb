{
 "cells": [
  {
   "cell_type": "markdown",
   "metadata": {},
   "source": [
    "## Notes on adding a leapsecond to the leapsec_mmddyy.fits table\n",
    "\n",
    "This notebook explains how to add a leap second to the leapsecond.fits file on the rare occasions that a leap second is added\n",
    "\n",
    "**References:**\n",
    "* http://tycho.usno.navy.mil/leapsec.html\n",
    "* http://maia.usno.navy.mil/ser7/tai-utc.dat\n",
    "* https://hpiers.obspm.fr/iers/bul/bulc/\n",
    "* http://heasarcdev.gsfc.nasa.gov/howto/Leap_Second_Updates.html - Ed's instructions on who does what\n",
    "\n",
    "See the pycaldb routine update_caldb_leapsec.py for the implementation of the code below"
   ]
  },
  {
   "cell_type": "code",
   "execution_count": 1,
   "metadata": {
    "collapsed": false
   },
   "outputs": [],
   "source": [
    "from astropy.io import fits as pyfits\n",
    "from astropy.time import Time\n",
    "from astropy.table import Table\n",
    "import ftputil\n",
    "from datetime import datetime\n",
    "import time"
   ]
  },
  {
   "cell_type": "raw",
   "metadata": {},
   "source": [
    "Typical announcement of a Leap Second from https://hpiers.obspm.fr/iers/bul/bulc/:\n",
    "\n",
    "SERVICE INTERNATIONAL DE LA ROTATION TERRESTRE ET DES SYSTEMES DE REFERENCE\n",
    "\n",
    "SERVICE DE LA ROTATION TERRESTRE DE L'IERS\n",
    "OBSERVATOIRE DE PARIS                                   \n",
    "61, Av. de l'Observatoire 75014 PARIS (France)\n",
    "Tel.      : +33 1 40 51 23 35\n",
    "e-mail    : services.iers@obspm.fr\n",
    "http://hpiers.obspm.fr/eop-pc\n",
    "\n",
    "\n",
    "                                              Paris, 6 July 2016\n",
    "                                                           \n",
    "                                              Bulletin C 52\n",
    "                                \n",
    " To authorities responsible for the measurement and distribution of time                                         \n",
    "\n",
    "\n",
    "                                   UTC TIME STEP\n",
    "                            on the 1st of January 2017\n",
    "                      \n",
    "\n",
    " A positive leap second will be introduced at the end of December 2016.\n",
    " The sequence of dates of the UTC second markers will be:\t\t\n",
    "\t\t\n",
    "                          2016 December 31, 23h 59m 59s\n",
    "                          2016 December 31, 23h 59m 60s\n",
    "                          2017 January   1,  0h  0m  0s\n",
    "              \n",
    " The difference between UTC and the International Atomic Time TAI is:\n",
    "\n",
    "  from 2015 July 1, 0h UTC, to 2017 January 1 0h UTC   : UTC-TAI = - 36s\n",
    "  from 2017 January 1, 0h UTC, until further notice    : UTC-TAI = - 37s \n",
    "\n",
    " \n",
    "  \n",
    " Leap seconds can be introduced in UTC at the end of the months of December \n",
    " or June, depending on the evolution of UT1-TAI. Bulletin C is mailed every \n",
    " six months, either to announce a time step in UTC or to confirm that there \n",
    " will be no time step at the next possible date.\n",
    " \n",
    " \n",
    "                                              Christian Bizouard\n",
    "                                              Head\n",
    "                                              Earth Orientation Center of IERS\n",
    "                                              Observatoire de Paris, France"
   ]
  },
  {
   "cell_type": "code",
   "execution_count": 2,
   "metadata": {
    "collapsed": true
   },
   "outputs": [],
   "source": [
    "NewLeapSecondDate = '2017-01-01T00:00:00' # in isot format\n",
    "NewLeapSecond = 1.0"
   ]
  },
  {
   "cell_type": "code",
   "execution_count": 3,
   "metadata": {
    "collapsed": false
   },
   "outputs": [
    {
     "name": "stdout",
     "output_type": "stream",
     "text": [
      "Latest Leapsecond File = leapsec_010715.fits\n"
     ]
    }
   ],
   "source": [
    "#\n",
    "# this block retrieves the lastest leapsecond file from /FTP/caldb/data/gen/bcf\n",
    "# based on the leapsecond file naming convention, \"leapsec_mmddyy.fits\"\n",
    "#\n",
    "LSdir=\"FTP/caldb/data/gen/bcf/\"\n",
    "host=ftputil.FTPHost('heasarc.gsfc.nasa.gov',\"anonymous\",\"mcorcoran@usra.edu\")\n",
    "genbcf=host.listdir(LSdir) # get directory listing\n",
    "LeapsecFileList= [f for f in genbcf if 'leapsec' in f]\n",
    "LeapsecFileYear = [y.split(\"_\")[1].split(\".fits\")[0][4:6] for y in LeapsecFileList]\n",
    "LeapsecFileYear = [('19'+y if int(y) > 50 else '20'+y) for y in LeapsecFileYear]\n",
    "LeapsecFileMonth = [m.split(\"_\")[1].split(\".fits\")[0][2:4] for m in LeapsecFileList]\n",
    "LeapsecFileDay = [d.split(\"_\")[1].split(\".fits\")[0][0:2] for d in LeapsecFileList]\n",
    "maxjd=0.0\n",
    "for i in arange(len(LeapsecFileList)):\n",
    "    tiso=LeapsecFileYear[i]+\"-\"+LeapsecFileMonth[i]+\"-\"+LeapsecFileDay[i]\n",
    "    fjd = Time(tiso).jd\n",
    "    if fjd > maxjd:\n",
    "        maxjd = fjd\n",
    "        LatestLSF = LeapsecFileList[i]\n",
    "print(\"Latest Leapsecond File = {0}\".format(LatestLSF))      \n"
   ]
  },
  {
   "cell_type": "code",
   "execution_count": 4,
   "metadata": {
    "collapsed": false
   },
   "outputs": [],
   "source": [
    "hdu=pyfits.open(\"http://heasarc.gsfc.nasa.gov/\"+LSdir+\"/\"+LatestLSF)"
   ]
  },
  {
   "cell_type": "code",
   "execution_count": 5,
   "metadata": {
    "collapsed": false
   },
   "outputs": [],
   "source": [
    "tbdata=hdu[1].data"
   ]
  },
  {
   "cell_type": "code",
   "execution_count": 7,
   "metadata": {
    "collapsed": false
   },
   "outputs": [],
   "source": [
    "lsdate = tbdata['DATE']\n",
    "lstime = tbdata['TIME']\n",
    "lsmjd = tbdata['MJD'] # this is the MJD corresponding to the tabulated DATE and TIME\n",
    "lssec = tbdata['SECONDS'] # elapsed seconds from MJDREF to MJD, with 1 day  = 86400 seconds\n",
    "lsleapsec = tbdata['LEAPSECS']\n",
    "\n",
    "# lsmjd[0] - Time((lsdate[0]+'T'+lstime[0]).strip(), format='isot').mjd\n",
    "\n",
    "\n"
   ]
  },
  {
   "cell_type": "code",
   "execution_count": 8,
   "metadata": {
    "collapsed": false
   },
   "outputs": [
    {
     "data": {
      "text/plain": [
       "array(['1972-01-01', '1972-07-01', '1973-01-01', '1974-01-01',\n",
       "       '1975-01-01', '1976-01-01', '1977-01-01', '1978-01-01',\n",
       "       '1979-01-01', '1980-01-01', '1981-07-01', '1982-07-01',\n",
       "       '1983-07-01', '1985-07-01', '1988-01-01', '1990-01-01',\n",
       "       '1991-01-01', '1992-07-01', '1993-07-01', '1994-07-01',\n",
       "       '1996-01-01', '1997-07-01', '1999-01-01', '2006-01-01',\n",
       "       '2009-01-01', '2012-07-01', '2015-07-01', '2017'], \n",
       "      dtype='|S10')"
      ]
     },
     "execution_count": 8,
     "metadata": {},
     "output_type": "execute_result"
    }
   ],
   "source": [
    "test=np.asarray(lsdate)\n",
    "test=np.append(lsdate,'2017')\n",
    "test"
   ]
  },
  {
   "cell_type": "code",
   "execution_count": 9,
   "metadata": {
    "collapsed": false
   },
   "outputs": [
    {
     "data": {
      "text/plain": [
       "array([  6.30720000e+07,   7.87968010e+07,   9.46944020e+07,\n",
       "         1.26230403e+08,   1.57766404e+08,   1.89302405e+08,\n",
       "         2.20924806e+08,   2.52460807e+08,   2.83996808e+08,\n",
       "         3.15532809e+08,   3.62793610e+08,   3.94329611e+08,\n",
       "         4.25865612e+08,   4.89024013e+08,   5.67993614e+08,\n",
       "         6.31152015e+08,   6.62688016e+08,   7.09948817e+08,\n",
       "         7.41484818e+08,   7.73020819e+08,   8.20454420e+08,\n",
       "         8.67715221e+08,   9.15148822e+08,   1.13607362e+09,\n",
       "         1.23076802e+09,   1.34110082e+09,   1.43570880e+09])"
      ]
     },
     "execution_count": 9,
     "metadata": {},
     "output_type": "execute_result"
    }
   ],
   "source": [
    "lssec"
   ]
  },
  {
   "cell_type": "code",
   "execution_count": 10,
   "metadata": {
    "collapsed": false
   },
   "outputs": [
    {
     "name": "stdout",
     "output_type": "stream",
     "text": [
      "1.43570880e+09\n"
     ]
    }
   ],
   "source": [
    "mjdref = hdu[1].header['MJDREF']\n",
    "sec = (lsmjd[26] - mjdref)*86400 \n",
    "print(\"{0:10.8e}\".format(sec))"
   ]
  },
  {
   "cell_type": "code",
   "execution_count": 11,
   "metadata": {
    "collapsed": false
   },
   "outputs": [
    {
     "data": {
      "text/plain": [
       "'leapsec_130716.fits'"
      ]
     },
     "execution_count": 11,
     "metadata": {},
     "output_type": "execute_result"
    }
   ],
   "source": [
    "outfile='leapsec_'+(time.strftime(\"%d%m\")+(time.strftime(\"%Y\"))[2:])+'.fits'\n",
    "outfile"
   ]
  },
  {
   "cell_type": "code",
   "execution_count": 12,
   "metadata": {
    "collapsed": false
   },
   "outputs": [
    {
     "data": {
      "text/plain": [
       "'2016-07-13 16:27:35'"
      ]
     },
     "execution_count": 12,
     "metadata": {},
     "output_type": "execute_result"
    }
   ],
   "source": [
    "time.strftime('%Y-%m-%d %H:%M:%S')"
   ]
  },
  {
   "cell_type": "code",
   "execution_count": 13,
   "metadata": {
    "collapsed": false
   },
   "outputs": [
    {
     "data": {
      "text/plain": [
       "ColDefs(\n",
       "    name = 'DATE'; format = '10A'\n",
       "    name = 'TIME'; format = '15A'\n",
       "    name = 'MJD'; format = 'D'\n",
       "    name = 'SECONDS'; format = 'D'; unit = 's'\n",
       "    name = 'LEAPSECS'; format = 'D'; unit = 's'\n",
       ")"
      ]
     },
     "execution_count": 13,
     "metadata": {},
     "output_type": "execute_result"
    }
   ],
   "source": [
    "tbdata.columns"
   ]
  },
  {
   "cell_type": "code",
   "execution_count": 14,
   "metadata": {
    "collapsed": false
   },
   "outputs": [
    {
     "data": {
      "text/plain": [
       "['2017-01-01', '00:00:00', 57754.0, 1483228800.0, 1.0]"
      ]
     },
     "execution_count": 14,
     "metadata": {},
     "output_type": "execute_result"
    }
   ],
   "source": [
    "#\n",
    "# create new row for new leapsecond information\n",
    "#\n",
    "newdate = NewLeapSecondDate.split('T')[0]\n",
    "newtime = NewLeapSecondDate.split('T')[1]\n",
    "newmjd = Time(NewLeapSecondDate, format='isot').mjd\n",
    "newsecs = (newmjd - mjdref)*86400\n",
    "newLS = NewLeapSecond\n",
    "NewLeapSecondRow=[newdate,newtime,newmjd,newsecs,newLS]\n",
    "NewLeapSecondRow"
   ]
  },
  {
   "cell_type": "code",
   "execution_count": 15,
   "metadata": {
    "collapsed": false
   },
   "outputs": [],
   "source": [
    "#\n",
    "# append new leapsecond info to table and write to output file\n",
    "#\n",
    "tbdata=hdu[1].data\n",
    "t=Table(tbdata) # convert hdu data to a python Table to add new row\n",
    "t.add_row(NewLeapSecondRow) # add row of data\n",
    "hdunew=pyfits.table_to_hdu(t) # convert table back to hdu (with minimal header)\n",
    "hdunew.header=hdu[1].header # use header from original file\n",
    "hdunew.header['COMMENT']='added 2016-12-31 leap sec by MFC'\n",
    "hdunew.header['HISTORY']='updated by MFC 2016-07-12'\n",
    "pyfits.writeto(outfile,hdunew.data,hdunew.header, clobber=True)"
   ]
  },
  {
   "cell_type": "code",
   "execution_count": null,
   "metadata": {
    "collapsed": true
   },
   "outputs": [],
   "source": [
    "#\n",
    "# append new leapsecond info to table using FITS columns and write to output file\n",
    "#\n",
    "tbdata=hdu[1].data\n",
    "t=Table(tbdata) # convert hdu data to a python Table to add new row\n",
    "newdate = np.append(lsdate, NewLeapSecondDate.split('T')[0])\n",
    "newtime = np.append(lstime, NewLeapSecondDate.split('T')[1])\n",
    "newmjd = np.append(lsmjd,Time(NewLeapSecondDate, format='isot').mjd)\n",
    "newsecs = np.append(lssec,newmjd - mjdref)*86400)\n",
    "newLS = np.append(lsleapsec, NewLeapSecond)\n",
    "\n",
    "t.add_row(NewLeapSecondRow) # add row of data\n",
    "hdunew=pyfits.table_to_hdu(t) # convert table back to hdu (with minimal header)\n",
    "hdunew.header=hdu[1].header # use header from original file\n",
    "hdunew.header['COMMENT']='added 2016-12-31 leap sec by MFC'\n",
    "hdunew.header['HISTORY']='updated by MFC 2016-07-12'\n",
    "pyfits.writeto(outfile,hdunew.data,hdunew.header, clobber=True)"
   ]
  },
  {
   "cell_type": "code",
   "execution_count": 16,
   "metadata": {
    "collapsed": false
   },
   "outputs": [
    {
     "data": {
      "text/plain": [
       "chararray(['1972-01-01', '1972-07-01', '1973-01-01', '1974-01-01',\n",
       "       '1975-01-01', '1976-01-01', '1977-01-01', '1978-01-01',\n",
       "       '1979-01-01', '1980-01-01', '1981-07-01', '1982-07-01',\n",
       "       '1983-07-01', '1985-07-01', '1988-01-01', '1990-01-01',\n",
       "       '1991-01-01', '1992-07-01', '1993-07-01', '1994-07-01',\n",
       "       '1996-01-01', '1997-07-01', '1999-01-01', '2006-01-01',\n",
       "       '2009-01-01', '2012-07-01', '2015-07-01'], \n",
       "      dtype='|S10')"
      ]
     },
     "execution_count": 16,
     "metadata": {},
     "output_type": "execute_result"
    }
   ],
   "source": [
    "tbdata['DATE']"
   ]
  },
  {
   "cell_type": "code",
   "execution_count": 17,
   "metadata": {
    "collapsed": false
   },
   "outputs": [
    {
     "data": {
      "text/plain": [
       "1435708800.0"
      ]
     },
     "execution_count": 17,
     "metadata": {},
     "output_type": "execute_result"
    }
   ],
   "source": [
    "(57204-mjdref)*86400"
   ]
  },
  {
   "cell_type": "code",
   "execution_count": 18,
   "metadata": {
    "collapsed": false
   },
   "outputs": [
    {
     "data": {
      "text/plain": [
       "1483228800.0"
      ]
     },
     "execution_count": 18,
     "metadata": {},
     "output_type": "execute_result"
    }
   ],
   "source": [
    "(57754-mjdref)*86400"
   ]
  },
  {
   "cell_type": "code",
   "execution_count": 19,
   "metadata": {
    "collapsed": false
   },
   "outputs": [
    {
     "data": {
      "text/plain": [
       "ColDefs(\n",
       "    name = 'DATE'; format = '10A'\n",
       "    name = 'TIME'; format = '15A'\n",
       "    name = 'MJD'; format = 'D'\n",
       "    name = 'SECONDS'; format = 'D'\n",
       "    name = 'LEAPSECS'; format = 'D'; unit = 's'\n",
       ")"
      ]
     },
     "execution_count": 19,
     "metadata": {},
     "output_type": "execute_result"
    }
   ],
   "source": [
    "# table_to_hdu doesn't seem to preserve the units of the column, so fix that\n",
    "hdunew.columns.change_unit('LEAPSECS','s')\n",
    "hdunew.columns"
   ]
  },
  {
   "cell_type": "code",
   "execution_count": 29,
   "metadata": {
    "collapsed": false
   },
   "outputs": [
    {
     "name": "stdout",
     "output_type": "stream",
     "text": [
      "Latest Leapsecond File = leapsec_010117.fits\n",
      "Downloading http://heasarc.gsfc.nasa.gov/FTP/caldb/data/gen/bcf//leapsec_010117.fits [Done]\n",
      "leapsec_010117.fits\n"
     ]
    }
   ],
   "source": [
    "def update_caldb_leapsec(NewLeapSecondDate, NewLeapSecond, updater=\"MFC\", outdir=\".\", clobber=True):\n",
    "    \"\"\"\n",
    "    Given the date of a new leapsecond (for example 2017-01-01T00:00:00)\n",
    "    creates a new leapsecond file for transfer to the caldb\n",
    "\n",
    "    NewLeapSecDate = date of new leap second in ISOT format YYYY-MM-DDTHH:MM:SS\n",
    "    NewLeapSecond = amount of new leap second (usually 1.0)\n",
    "\n",
    "    writes a new FITS file to the current working directory by default\n",
    "    \"\"\"\n",
    "    from astropy.io import fits as pyfits\n",
    "    from astropy.time import Time\n",
    "    from astropy.table import Table\n",
    "    import ftputil\n",
    "    import time\n",
    "    #\n",
    "    # this block retrieves the lastest leapsecond file from /FTP/caldb/data/gen/bcf\n",
    "    # based on the leapsecond file naming convention, \"leapsec_mmddyy.fits\"\n",
    "    #\n",
    "    LSdir = \"FTP/caldb/data/gen/bcf/\"\n",
    "    host = ftputil.FTPHost('heasarc.gsfc.nasa.gov', \"anonymous\", \"mcorcoran@usra.edu\")\n",
    "    genbcf = host.listdir(LSdir)  # get directory listing\n",
    "    LeapsecFileList = [f for f in genbcf if 'leapsec' in f]\n",
    "    LeapsecFileYear = [y.split(\"_\")[1].split(\".fits\")[0][4:6] for y in LeapsecFileList]\n",
    "    LeapsecFileYear = [('19' + y if int(y) > 50 else '20' + y) for y in LeapsecFileYear]\n",
    "    LeapsecFileMonth = [m.split(\"_\")[1].split(\".fits\")[0][2:4] for m in LeapsecFileList]\n",
    "    LeapsecFileDay = [d.split(\"_\")[1].split(\".fits\")[0][0:2] for d in LeapsecFileList]\n",
    "    maxjd = 0.0\n",
    "    for i in range(len(LeapsecFileList)):\n",
    "        tiso = LeapsecFileYear[i] + \"-\" + LeapsecFileMonth[i] + \"-\" + LeapsecFileDay[i]\n",
    "        fjd = Time(tiso).jd\n",
    "        if fjd > maxjd:\n",
    "            maxjd = fjd\n",
    "            LatestLSF = LeapsecFileList[i]\n",
    "    print(\"Latest Leapsecond File = {0}\".format(LatestLSF))\n",
    "\n",
    "    hdu = pyfits.open(\"http://heasarc.gsfc.nasa.gov/\" + LSdir + \"/\" + LatestLSF) # open the file\n",
    "\n",
    "    orig_header = hdu[1].header\n",
    "    mjdref = orig_header['MJDREF']\n",
    "\n",
    "    UpdateDate = time.strftime('%Y-%m-%d %H:%M:%S')\n",
    "    #outfile = 'leapsec_' + (time.strftime(\"%d%m\") + (time.strftime(\"%Y\"))[2:]) + '.fits'\n",
    "    outfile = 'leapsec_' + NewLeapSecondDate[8:10] + NewLeapSecondDate[5:7] + NewLeapSecondDate[2:4] + '.fits'\n",
    "\n",
    "\n",
    "    #\n",
    "    # create new row for new leapsecond information\n",
    "    #\n",
    "    newdate = NewLeapSecondDate.split('T')[0]\n",
    "    newtime = NewLeapSecondDate.split('T')[1]\n",
    "    newmjd = Time(NewLeapSecondDate, format='isot').mjd\n",
    "    newsecs = (newmjd - mjdref) * 86400\n",
    "    newLS = NewLeapSecond\n",
    "    NewLeapSecondRow = [newdate, newtime, newmjd, newsecs, newLS]\n",
    "    #\n",
    "    # append new leapsecond to table and write to output file\n",
    "    #\n",
    "    tbdata = hdu[1].data\n",
    "    t = Table(tbdata)  # convert hdu data to a python Table to add new row\n",
    "    t.add_row(NewLeapSecondRow)  # add row of data\n",
    "    hdunew = pyfits.table_to_hdu(t)  # convert table back to hdu (with minimal header)\n",
    "\n",
    "    hdunew.columns.change_unit('SECONDS', 's') # table_to_hdu doesn't seem to preserve the Unit\n",
    "    hdunew.columns.change_unit('LEAPSECS', 's') # table_to_hdu doesn't seem to preserve the Unit\n",
    "\n",
    "    hdunew.header = orig_header  # use header from original file\n",
    "    hdunew.header['COMMENT'] = UpdateDate+\": \"+updater+\" ADDED \"+NewLeapSecondDate+\" LEAP SECOND\"\n",
    "    hdunew.header['HISTORY'] = \"File modified by user \"+updater+\" on \"+UpdateDate\n",
    "    pyfits.writeto(outdir + \"/\" + outfile, hdunew.data, hdunew.header, clobber=clobber, checksum=True)\n",
    "    return outfile\n",
    "\n",
    "if __name__ == \"__main__\":\n",
    "    file = update_caldb_leapsec('2017-01-01T00:00:00', 1.0)\n",
    "    print file"
   ]
  }
 ],
 "metadata": {
  "kernelspec": {
   "display_name": "Python 2",
   "language": "python",
   "name": "python2"
  },
  "language_info": {
   "codemirror_mode": {
    "name": "ipython",
    "version": 2
   },
   "file_extension": ".py",
   "mimetype": "text/x-python",
   "name": "python",
   "nbconvert_exporter": "python",
   "pygments_lexer": "ipython2",
   "version": "2.7.12"
  }
 },
 "nbformat": 4,
 "nbformat_minor": 0
}
